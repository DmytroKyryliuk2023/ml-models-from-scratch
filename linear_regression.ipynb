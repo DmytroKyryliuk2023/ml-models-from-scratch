{
 "cells": [
  {
   "cell_type": "code",
   "execution_count": 1,
   "id": "3cf70e5d",
   "metadata": {},
   "outputs": [],
   "source": [
    "import numpy as np\n",
    "import matplotlib.pyplot as plt"
   ]
  },
  {
   "cell_type": "code",
   "execution_count": 2,
   "id": "84ab5865",
   "metadata": {},
   "outputs": [],
   "source": [
    "np.random.seed(42)\n",
    "X = 2 * np.random.rand(100, 1)\n",
    "y = 4 + 3 * X + np.random.randn(100, 1)"
   ]
  },
  {
   "cell_type": "code",
   "execution_count": 3,
   "id": "d5e943ec",
   "metadata": {},
   "outputs": [],
   "source": [
    "def loss_function(m, b, X, y):\n",
    "    return np.mean((y - (m * X + b))**2)"
   ]
  },
  {
   "cell_type": "code",
   "execution_count": 8,
   "id": "99df8026",
   "metadata": {},
   "outputs": [],
   "source": [
    "def gradient_descent(m_now, b_now, X, y, L):\n",
    "    m_gradient = 0\n",
    "    b_gradient = 0\n",
    "\n",
    "    n = len(X)\n",
    "    for i in range(n):\n",
    "        error = y[i] - (m_now * X[i] + b_now)\n",
    "\n",
    "        m_gradient += -(2/n) * X[i] * error\n",
    "        b_gradient += -(2/n) * error\n",
    "    \n",
    "    m = m_now - L * m_gradient\n",
    "    b = b_now - L * b_gradient\n",
    "    return m, b"
   ]
  },
  {
   "cell_type": "code",
   "execution_count": 19,
   "id": "0d354e07",
   "metadata": {},
   "outputs": [],
   "source": [
    "m = 0\n",
    "b = 0\n",
    "L = 0.0001\n",
    "epochs = 10000\n",
    "tol = 1e-6"
   ]
  },
  {
   "cell_type": "code",
   "execution_count": 20,
   "id": "53d117f2",
   "metadata": {},
   "outputs": [],
   "source": [
    "prev_loss = float(\"inf\")\n",
    "\n",
    "for i in range(epochs):\n",
    "    m, b = gradient_descent(m, b, X, y, L)\n",
    "\n",
    "    loss = loss_function(m, b, X, y)\n",
    "    if abs(prev_loss - loss) < tol:\n",
    "        print(f\"Stopped early at epoch {i}, loss={loss:.6f}\")\n",
    "        break\n",
    "    prev_loss = loss"
   ]
  },
  {
   "cell_type": "code",
   "execution_count": 21,
   "id": "b7694bcd",
   "metadata": {},
   "outputs": [
    {
     "name": "stdout",
     "output_type": "stream",
     "text": [
      "\n",
      "Final model:\n",
      "y = 3.34x + 3.46\n"
     ]
    },
    {
     "data": {
      "image/png": "[encoded data removed]",
      "text/plain": [
       "<Figure size 640x480 with 1 Axes>"
      ]
     },
     "metadata": {},
     "output_type": "display_data"
    }
   ],
   "source": [
    "print(\"\\nFinal model:\")\n",
    "print(f\"y = {m.item():.2f}x + {b.item():.2f}\")\n",
    "\n",
    "plt.scatter(X, y, color=\"blue\")\n",
    "plt.plot(X, m * X + b, color=\"red\")\n",
    "plt.show()"
   ]
  }
 ],
 "metadata": {
  "kernelspec": {
   "display_name": ".venv",
   "language": "python",
   "name": "python3"
  },
  "language_info": {
   "codemirror_mode": {
    "name": "ipython",
    "version": 3
   },
   "file_extension": ".py",
   "mimetype": "text/x-python",
   "name": "python",
   "nbconvert_exporter": "python",
   "pygments_lexer": "ipython3",
   "version": "3.12.6"
  }
 },
 "nbformat": 4,
 "nbformat_minor": 5
}
